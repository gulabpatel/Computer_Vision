{
  "nbformat": 4,
  "nbformat_minor": 0,
  "metadata": {
    "colab": {
      "name": "Part 2: Handwritten_character_recognition_using_CNN.ipynb",
      "provenance": [],
      "collapsed_sections": [],
      "toc_visible": true
    },
    "kernelspec": {
      "name": "python3",
      "display_name": "Python 3"
    }
  },
  "cells": [
    {
      "cell_type": "markdown",
      "metadata": {
        "id": "wIDtJf736QF8"
      },
      "source": [
        "To install a package, if it is not present, use the following command\n",
        "\n",
        "!pip install packageName"
      ]
    },
    {
      "cell_type": "code",
      "metadata": {
        "id": "UzKQLp_bVqm6",
        "colab": {
          "base_uri": "https://localhost:8080/"
        },
        "outputId": "2eea8117-e011-4144-c8d6-9a2560ca3b07"
      },
      "source": [
        "!pip install wget"
      ],
      "execution_count": 1,
      "outputs": [
        {
          "output_type": "stream",
          "text": [
            "Collecting wget\n",
            "  Downloading https://files.pythonhosted.org/packages/47/6a/62e288da7bcda82b935ff0c6cfe542970f04e29c756b0e147251b2fb251f/wget-3.2.zip\n",
            "Building wheels for collected packages: wget\n",
            "  Building wheel for wget (setup.py) ... \u001b[?25l\u001b[?25hdone\n",
            "  Created wheel for wget: filename=wget-3.2-cp36-none-any.whl size=9682 sha256=b548a6fdf4170037c8864e3e2b536ca9efc6a0c1d316e3d226446492824f6eb2\n",
            "  Stored in directory: /root/.cache/pip/wheels/40/15/30/7d8f7cea2902b4db79e3fea550d7d7b85ecb27ef992b618f3f\n",
            "Successfully built wget\n",
            "Installing collected packages: wget\n",
            "Successfully installed wget-3.2\n"
          ],
          "name": "stdout"
        }
      ]
    },
    {
      "cell_type": "markdown",
      "metadata": {
        "id": "OItDyQqm6sEA"
      },
      "source": [
        "#Import Libraries"
      ]
    },
    {
      "cell_type": "code",
      "metadata": {
        "id": "Q9wJLT9y5lww"
      },
      "source": [
        "import os\n",
        "import numpy as np\n",
        "import cv2 \n",
        "import wget "
      ],
      "execution_count": 2,
      "outputs": []
    },
    {
      "cell_type": "markdown",
      "metadata": {
        "id": "uKUhtQBJ60wN"
      },
      "source": [
        "create a directory and change the current director"
      ]
    },
    {
      "cell_type": "code",
      "metadata": {
        "colab": {
          "base_uri": "https://localhost:8080/"
        },
        "id": "ufApRMmYqnBY",
        "outputId": "9eae972c-866f-46a6-ed9e-a74bac63baf6"
      },
      "source": [
        "!pwd  #present working directory"
      ],
      "execution_count": 3,
      "outputs": [
        {
          "output_type": "stream",
          "text": [
            "/content\n"
          ],
          "name": "stdout"
        }
      ]
    },
    {
      "cell_type": "code",
      "metadata": {
        "id": "wr4SxHFt0tBT"
      },
      "source": [
        "rootDir='./Data'\n",
        "os.makedirs(rootDir, exist_ok=True)    \n",
        "        \n",
        "os.chdir(rootDir)"
      ],
      "execution_count": 4,
      "outputs": []
    },
    {
      "cell_type": "code",
      "metadata": {
        "colab": {
          "base_uri": "https://localhost:8080/"
        },
        "id": "SvF8w5DxqvRD",
        "outputId": "33b0087f-7bc6-4beb-9176-ce65afd9c63e"
      },
      "source": [
        "!pwd"
      ],
      "execution_count": 5,
      "outputs": [
        {
          "output_type": "stream",
          "text": [
            "/content/Data\n"
          ],
          "name": "stdout"
        }
      ]
    },
    {
      "cell_type": "markdown",
      "metadata": {
        "id": "Zi392tRo7CPQ"
      },
      "source": [
        "#Download dataset in current directory. For more info about dataset visit http://yann.lecun.com/exdb/mnist/"
      ]
    },
    {
      "cell_type": "code",
      "metadata": {
        "id": "ejj_Bxcc7L7q",
        "colab": {
          "base_uri": "https://localhost:8080/",
          "height": 35
        },
        "outputId": "191fd1e7-cec8-404e-d161-a7eb7278da0d"
      },
      "source": [
        "url = 'http://yann.lecun.com/exdb/mnist/train-images-idx3-ubyte.gz'\n",
        "wget.download(url)\n",
        "\n",
        "url = 'http://yann.lecun.com/exdb/mnist/train-labels-idx1-ubyte.gz'\n",
        "wget.download(url)\n",
        "\n",
        "url = 'http://yann.lecun.com/exdb/mnist/t10k-images-idx3-ubyte.gz'\n",
        "wget.download(url)\n",
        "\n",
        "url = 'http://yann.lecun.com/exdb/mnist/t10k-labels-idx1-ubyte.gz'\n",
        "wget.download(url)"
      ],
      "execution_count": 6,
      "outputs": [
        {
          "output_type": "execute_result",
          "data": {
            "application/vnd.google.colaboratory.intrinsic+json": {
              "type": "string"
            },
            "text/plain": [
              "'t10k-labels-idx1-ubyte.gz'"
            ]
          },
          "metadata": {
            "tags": []
          },
          "execution_count": 6
        }
      ]
    },
    {
      "cell_type": "markdown",
      "metadata": {
        "id": "_FLM0pNL7RXa"
      },
      "source": [
        "#Extract the training data and store it in Train folder"
      ]
    },
    {
      "cell_type": "code",
      "metadata": {
        "id": "H9u9c99m0zBh"
      },
      "source": [
        "image_size = 28\n",
        "import gzip\n",
        "\n",
        "fx = gzip.open('train-images-idx3-ubyte.gz','r')\n",
        "fx.read(16)\n",
        "fy = gzip.open('train-labels-idx1-ubyte.gz','r')\n",
        "fy.read(8)\n",
        "count=0\n",
        "while 1:\n",
        "    labBuff=fy.read(1)\n",
        "    if not labBuff:\n",
        "        break\n",
        "    label = np.frombuffer(labBuff, dtype=np.uint8)[0]\n",
        "    buf = fx.read(image_size * image_size )\n",
        "    data = np.frombuffer(buf, dtype=np.uint8)\n",
        "    image = data.reshape(image_size, image_size)\n",
        "    parentDir='Train'+os.sep+str(label)\n",
        "    os.makedirs(parentDir, exist_ok=True)    \n",
        "    cv2.imwrite(parentDir+os.sep+str(count)+'.png',image)  \n",
        "    count += 1\n"
      ],
      "execution_count": 7,
      "outputs": []
    },
    {
      "cell_type": "markdown",
      "metadata": {
        "id": "Ou-b5H4z7aBL"
      },
      "source": [
        "#Extract the testing data and store it in Test folder"
      ]
    },
    {
      "cell_type": "code",
      "metadata": {
        "id": "ERNR-WIu05mN"
      },
      "source": [
        "fx = gzip.open('t10k-images-idx3-ubyte.gz','r')\n",
        "fx.read(16)\n",
        "fy = gzip.open('t10k-labels-idx1-ubyte.gz','r')\n",
        "fy.read(8)\n",
        "count=0\n",
        "while 1:\n",
        "    labBuff=fy.read(1)\n",
        "    if not labBuff:\n",
        "        break\n",
        "    label = np.frombuffer(labBuff, dtype=np.uint8)[0]\n",
        "    buf = fx.read(image_size * image_size )\n",
        "    data = np.frombuffer(buf, dtype=np.uint8)\n",
        "    image = data.reshape(image_size, image_size)\n",
        "    parentDir='Test'+os.sep+str(label)\n",
        "    os.makedirs(parentDir, exist_ok=True)    \n",
        "    cv2.imwrite(parentDir+os.sep+str(count)+'.png',image)  \n",
        "    count += 1"
      ],
      "execution_count": 8,
      "outputs": []
    },
    {
      "cell_type": "markdown",
      "metadata": {
        "id": "d41jRMAWNHe0"
      },
      "source": [
        "#Create Training and Testing Dataset"
      ]
    },
    {
      "cell_type": "code",
      "metadata": {
        "id": "-pF2MQpQNPlN",
        "colab": {
          "base_uri": "https://localhost:8080/"
        },
        "outputId": "b39c50b4-ce22-49f0-e5b8-7be92466c704"
      },
      "source": [
        "from random import shuffle\n",
        "import tensorflow as tf \n",
        "import matplotlib.pyplot as plt\n",
        "import cv2 \n",
        "\n",
        "print(os.getcwd())\n",
        "rootDir='/'\n",
        "os.chdir(rootDir)\n",
        "!pwd"
      ],
      "execution_count": 10,
      "outputs": [
        {
          "output_type": "stream",
          "text": [
            "/\n",
            "/\n"
          ],
          "name": "stdout"
        }
      ]
    },
    {
      "cell_type": "markdown",
      "metadata": {
        "id": "kYwS4BrVtotb"
      },
      "source": [
        "#Creat Train and Test datalist\r\n"
      ]
    },
    {
      "cell_type": "code",
      "metadata": {
        "id": "i_v8i6npDpBa"
      },
      "source": [
        "rootDir='./content/Data/Train'\n",
        "trainList=[]\n",
        "for path, subdirs, files in os.walk(rootDir):\n",
        "  for name in files:\n",
        "    if not name.endswith('.png'):\n",
        "        continue  \n",
        "    \n",
        "    imPath=os.path.join(path, name); \n",
        "    # print(imPath)\n",
        "    parts=imPath.split(os.sep);   \n",
        "    trainList.append([imPath, int(parts[-2])])\n",
        "        \n",
        "        \n",
        "rootDir='./content/Data/Test'\n",
        "testList=[]\n",
        "for path, subdirs, files in os.walk(rootDir):\n",
        "    for name in files:\n",
        "        if not name.endswith('.png'):\n",
        "            continue  \n",
        "        \n",
        "        imPath=os.path.join(path, name); \n",
        "        # print(imPath)\n",
        "        parts=imPath.split(os.sep);   \n",
        "        testList.append([imPath, int(parts[-2])])\n",
        "  "
      ],
      "execution_count": 11,
      "outputs": []
    },
    {
      "cell_type": "markdown",
      "metadata": {
        "id": "ZsVG5bD2tj-0"
      },
      "source": [
        "#Creat MNIST Dataset"
      ]
    },
    {
      "cell_type": "code",
      "metadata": {
        "id": "gzO6hvGJrsYG"
      },
      "source": [
        "class create_mnist_dataset(object):\r\n",
        "    def __init__(self, batch_size):\r\n",
        "        self.batch_size = batch_size\r\n",
        "    def gen(self,dataList, phase='Train'):\r\n",
        "        inps=[]\r\n",
        "        labels=[]\r\n",
        "        try:\r\n",
        "          while 1:\r\n",
        "              shuffle(dataList)\r\n",
        "              for imPath, label in dataList:\r\n",
        "                  # print(imPath)\r\n",
        "                  tmp=np.zeros((10),dtype='uint8')\r\n",
        "                  tmp[int(label)]=1\r\n",
        "                  labels.append(tmp.copy())\r\n",
        "                  image=cv2.imread(imPath,0) ### we want to read image as gray\r\n",
        "                  image.shape\r\n",
        "                  inps.append(np.expand_dims(image,axis=-1))\r\n",
        "                  if len(labels)==self.batch_size:            \r\n",
        "                      yield np.asarray(inps,dtype='float32'), np.asarray(labels,dtype='float32')\r\n",
        "                      inps=[]\r\n",
        "                      labels=[]\r\n",
        "              if phase=='Test':\r\n",
        "                  break\r\n",
        "        except GeneratorExit:\r\n",
        "          print(\"Generated Finished\")\r\n",
        "\r\n",
        "batch_size=256\r\n",
        "# print(len(trainList))\r\n",
        "dataset=create_mnist_dataset(batch_size)\r\n",
        "traindata=dataset.gen(trainList)"
      ],
      "execution_count": 12,
      "outputs": []
    },
    {
      "cell_type": "markdown",
      "metadata": {
        "id": "mj8TjNnhtg8Q"
      },
      "source": [
        "#Plot data"
      ]
    },
    {
      "cell_type": "code",
      "metadata": {
        "id": "RCtkc_DGQtkZ",
        "colab": {
          "base_uri": "https://localhost:8080/",
          "height": 248
        },
        "outputId": "2a9cf146-6758-4414-9de2-2181af5386b4"
      },
      "source": [
        "%matplotlib inline\n",
        "\n",
        "testdata=dataset.gen(testList,phase='Test')\n",
        "vimages, vclasses = next( testdata)\n",
        "\n",
        "# Fill out the subplots with the random images that you defined \n",
        "for i in range(9):\n",
        "    plt.subplot(3, 3, i+1)\n",
        "    plt.axis('off')\n",
        "    plt.imshow(vimages[i].reshape(28,28))\n",
        "    plt.subplots_adjust(wspace=0.5)\n",
        "plt.show()"
      ],
      "execution_count": 13,
      "outputs": [
        {
          "output_type": "display_data",
          "data": {
            "image/png": "[encoded data removed]",
            "text/plain": [
              "<Figure size 432x288 with 9 Axes>"
            ]
          },
          "metadata": {
            "tags": [],
            "needs_background": "light"
          }
        }
      ]
    },
    {
      "cell_type": "markdown",
      "metadata": {
        "id": "P18sDkUYt93E"
      },
      "source": [
        "#Initialize parameters"
      ]
    },
    {
      "cell_type": "code",
      "metadata": {
        "id": "KQUaI2slQyz3"
      },
      "source": [
        "# Parameters\n",
        "learning_rate = 0.01\n",
        "training_iteration = 1000\n",
        "display_step = 10\n",
        "\n",
        "\n",
        "# Network Parameters\n",
        "n_hidden_1 = 256 # 1st layer number of neurons\n",
        "n_hidden_2 = 256 # 2nd layer number of neurons\n",
        "n_input = [28,28,1] # MNIST data input (img shape: 28*28)\n",
        "n_classes = 10 # MNIST total classes (0-9 digits)\n",
        "\n",
        "\n",
        "initializer=tf.keras.initializers.HeNormal()  \n",
        "# initializer=tf.keras.initializers.HeUniform()\n",
        "# initializer = tf.initializers.orthogonal(gain=1.0) \n",
        "# initializer = tf.initializers.VarianceScaling(scale=1.0, mode='fan_in', distribution='truncated_normal')  \n",
        "# initializer = tf.initializers.glorot_uniform()  \n",
        "# initializer = tf.initializers.glorot_normal()  \n",
        "# initializer = tf.initializers.RandomUniform(minval=-1.0, maxval=1.0)  \n",
        "# initializer = tf.initializers.RandomNormal(mean=0, stddev=1.0)  \n",
        "\n",
        "# Store layers weight & bias\n",
        "weights = {\n",
        "    'cnn1': tf.Variable(initializer([3,3,n_input[2],32]),trainable=True),\n",
        "    'cnn2': tf.Variable(initializer([3,3,32,32]),trainable=True),\n",
        "    \n",
        "    \n",
        "    'cnn3': tf.Variable(initializer([3,3,32,64]),trainable=True),\n",
        "    'cnn4': tf.Variable(initializer([3,3,64,64]),trainable=True),    \n",
        "    \n",
        "    'cnn5': tf.Variable(initializer([3,3,64,64]),trainable=True),\n",
        "                       \n",
        "    'h1': tf.Variable(initializer([64*2*2, n_hidden_1]),trainable=True),\n",
        "    'h2': tf.Variable(initializer([n_hidden_1, n_hidden_2]),trainable=True),\n",
        "    'out': tf.Variable(initializer([n_hidden_2, n_classes]),trainable=True)\n",
        "}\n",
        "biases = {\n",
        "    'cb1': tf.Variable(tf.zeros([32]),trainable=True),\n",
        "    'cb2': tf.Variable(tf.zeros([32]),trainable=True),\n",
        "    'cb3': tf.Variable(tf.zeros([64]),trainable=True),\n",
        "    'cb4': tf.Variable(tf.zeros([64]),trainable=True),\n",
        "    'cb5': tf.Variable(tf.zeros([64]),trainable=True),\n",
        "    \n",
        "    'b1': tf.Variable(tf.zeros([n_hidden_1]),trainable=True),\n",
        "    'b2': tf.Variable(tf.zeros([n_hidden_2]),trainable=True),\n",
        "    'out': tf.Variable(tf.zeros([n_classes]),trainable=True)\n",
        "}\n",
        "\n",
        "varList=[]\n",
        "for key in weights:\n",
        "  varList.append(weights[key])\n",
        "for key in biases:\n",
        "  varList.append(biases[key])           "
      ],
      "execution_count": 14,
      "outputs": []
    },
    {
      "cell_type": "markdown",
      "metadata": {
        "id": "a8jPbyg7uLxh"
      },
      "source": [
        "#Create Model"
      ]
    },
    {
      "cell_type": "code",
      "metadata": {
        "id": "1-HuV4k3uMKc"
      },
      "source": [
        "# Create model\r\n",
        "def multilayerNN(x):\r\n",
        "    \r\n",
        "    cnn1_out=tf.add( tf.nn.conv2d( x, weights['cnn1'], [1,1,1,1], padding='VALID'), biases['cb1'])\r\n",
        "    cnn1_actv=tf.nn.leaky_relu(cnn1_out, alpha=0.2)\r\n",
        "    \r\n",
        "    cnn2_out=tf.add( tf.nn.conv2d( cnn1_actv, weights['cnn2'], [1,1,1,1], padding='VALID'), biases['cb2'])\r\n",
        "    cnn2_actv=tf.nn.leaky_relu(cnn2_out, alpha=0.2)\r\n",
        "    \r\n",
        "    \r\n",
        "    pool1=tf.nn.max_pool(cnn2_actv, [1, 2, 2, 1], [1, 2, 2, 1], padding='VALID')\r\n",
        "    \r\n",
        "    cnn3_out=tf.add( tf.nn.conv2d( pool1, weights['cnn3'], [1,1,1,1], padding='VALID'), biases['cb3'])\r\n",
        "    cnn3_actv=tf.nn.leaky_relu(cnn3_out, alpha=0.2)\r\n",
        "    cnn4_out=tf.add( tf.nn.conv2d( cnn3_actv, weights['cnn4'], [1,1,1,1], padding='VALID'), biases['cb4'])\r\n",
        "    cnn4_actv=tf.nn.leaky_relu(cnn4_out, alpha=0.2)\r\n",
        "    \r\n",
        "    pool2=tf.nn.max_pool(cnn4_actv, [1, 2, 2, 1], [1, 2, 2, 1], padding='VALID')\r\n",
        "    \r\n",
        "    cnn5_out=tf.add( tf.nn.conv2d( pool2, weights['cnn5'], [1,1,1,1], padding='VALID'), biases['cb5'])\r\n",
        "    cnn5_actv=tf.nn.leaky_relu(cnn5_out, alpha=0.2)\r\n",
        "    \r\n",
        "    \r\n",
        "    flatten1=tf.reshape(cnn5_actv,(-1,64*2*2))\r\n",
        "\r\n",
        "\r\n",
        "    # Hidden fully connected layer with 256 neurons\r\n",
        "    layer_1 = tf.add(tf.matmul(flatten1, weights['h1']), biases['b1'])\r\n",
        "    layer_1=tf.nn.leaky_relu(layer_1, alpha=0.2)\r\n",
        "    #drop1=tf.nn.dropout(layer_1,rate=0.25)\r\n",
        "    \r\n",
        "    # Hidden fully connected layer with 256 neurons\r\n",
        "    layer_2 = tf.add(tf.matmul(layer_1, weights['h2']), biases['b2'])\r\n",
        "    layer_2=tf.nn.leaky_relu(layer_2, alpha=0.2)\r\n",
        "    # Output fully connected layer with a neuron for each class\r\n",
        "    out_layer = tf.matmul(layer_2, weights['out']) + biases['out']\r\n",
        "    # out_layer=tf.nn.sigmoid(out_layer)\r\n",
        "    y=tf.nn.softmax(out_layer,axis=-1)\r\n",
        "    return y\r\n",
        "\r\n",
        "\r\n",
        "\r\n",
        "optimizer = tf.keras.optimizers.Adadelta(learning_rate=learning_rate, rho=0.95, epsilon=10.0**-7)\r\n",
        "# optimizer = tf.keras.optimizers.SGD( learning_rate=learning_rate, momentum=0.0)"
      ],
      "execution_count": 15,
      "outputs": []
    },
    {
      "cell_type": "markdown",
      "metadata": {
        "id": "GEA6I5_uvQjI"
      },
      "source": [
        "#Train Model"
      ]
    },
    {
      "cell_type": "code",
      "metadata": {
        "colab": {
          "base_uri": "https://localhost:8080/"
        },
        "id": "PNrj2XlzZ4b7",
        "outputId": "c081cbae-eb06-4a71-82a3-5531ae2888b3"
      },
      "source": [
        "iteration=0\n",
        "while iteration<training_iteration:\n",
        "  iteration = iteration + 1 \n",
        "  images, classes = next(traindata)\n",
        "       \n",
        "  images=tf.convert_to_tensor(images)\n",
        "  images=(images-127.5)/127.5\n",
        "  classes=tf.convert_to_tensor(classes)\n",
        "  with tf.GradientTape(watch_accessed_variables=False) as tape:\n",
        "    tape.watch(varList)\n",
        "    y = multilayerNN(images)\n",
        "\n",
        "    loss = tf.reduce_mean(-classes*tf.math.log(y) )\n",
        "\n",
        "  gradients = tape.gradient(loss, varList)\n",
        "  optimizer.apply_gradients(zip(gradients, varList))\n",
        "\n",
        "  \n",
        "  # Display loss per epoch step\n",
        "  if iteration % display_step == 0:\n",
        "      print(\"iteration:\", '%04d' % (iteration), \"cost={:.9f}\".format(loss))"
      ],
      "execution_count": 16,
      "outputs": [
        {
          "output_type": "stream",
          "text": [
            "iteration: 0010 cost=0.414237887\n",
            "iteration: 0020 cost=0.368024528\n",
            "iteration: 0030 cost=0.314102799\n",
            "iteration: 0040 cost=0.271147549\n",
            "iteration: 0050 cost=0.247635201\n",
            "iteration: 0060 cost=0.231773093\n",
            "iteration: 0070 cost=0.216648266\n",
            "iteration: 0080 cost=0.203563422\n",
            "iteration: 0090 cost=0.201014563\n",
            "iteration: 0100 cost=0.194190279\n",
            "iteration: 0110 cost=0.185700506\n",
            "iteration: 0120 cost=0.181561664\n",
            "iteration: 0130 cost=0.184048682\n",
            "iteration: 0140 cost=0.176543429\n",
            "iteration: 0150 cost=0.163267851\n",
            "iteration: 0160 cost=0.147754028\n",
            "iteration: 0170 cost=0.145302474\n",
            "iteration: 0180 cost=0.144402057\n",
            "iteration: 0190 cost=0.143876225\n",
            "iteration: 0200 cost=0.141242459\n",
            "iteration: 0210 cost=0.127219990\n",
            "iteration: 0220 cost=0.130730033\n",
            "iteration: 0230 cost=0.115070209\n",
            "iteration: 0240 cost=0.119232692\n",
            "iteration: 0250 cost=0.109741054\n",
            "iteration: 0260 cost=0.107259512\n",
            "iteration: 0270 cost=0.105081640\n",
            "iteration: 0280 cost=0.101309277\n",
            "iteration: 0290 cost=0.092346407\n",
            "iteration: 0300 cost=0.099008910\n",
            "iteration: 0310 cost=0.087768808\n",
            "iteration: 0320 cost=0.092724182\n",
            "iteration: 0330 cost=0.087016508\n",
            "iteration: 0340 cost=0.081924625\n",
            "iteration: 0350 cost=0.085647836\n",
            "iteration: 0360 cost=0.084796086\n",
            "iteration: 0370 cost=0.070126630\n",
            "iteration: 0380 cost=0.076753393\n",
            "iteration: 0390 cost=0.072120391\n",
            "iteration: 0400 cost=0.074692115\n",
            "iteration: 0410 cost=0.069640994\n",
            "iteration: 0420 cost=0.065836467\n",
            "iteration: 0430 cost=0.059527732\n",
            "iteration: 0440 cost=0.066507332\n",
            "iteration: 0450 cost=0.064764284\n",
            "iteration: 0460 cost=0.067475632\n",
            "iteration: 0470 cost=0.057649869\n",
            "iteration: 0480 cost=0.053176515\n",
            "iteration: 0490 cost=0.056599397\n",
            "iteration: 0500 cost=0.055231821\n",
            "iteration: 0510 cost=0.060639940\n",
            "iteration: 0520 cost=0.049561046\n",
            "iteration: 0530 cost=0.055057902\n",
            "iteration: 0540 cost=0.046713073\n",
            "iteration: 0550 cost=0.060476102\n",
            "iteration: 0560 cost=0.058792304\n",
            "iteration: 0570 cost=0.057304394\n",
            "iteration: 0580 cost=0.045915905\n",
            "iteration: 0590 cost=0.055514704\n",
            "iteration: 0600 cost=0.049420137\n",
            "iteration: 0610 cost=0.047884144\n",
            "iteration: 0620 cost=0.048642211\n",
            "iteration: 0630 cost=0.042690843\n",
            "iteration: 0640 cost=0.049002416\n",
            "iteration: 0650 cost=0.047439069\n",
            "iteration: 0660 cost=0.043845560\n",
            "iteration: 0670 cost=0.045699410\n",
            "iteration: 0680 cost=0.047749020\n",
            "iteration: 0690 cost=0.041523434\n",
            "iteration: 0700 cost=0.041169893\n",
            "iteration: 0710 cost=0.043408386\n",
            "iteration: 0720 cost=0.042062197\n",
            "iteration: 0730 cost=0.048390221\n",
            "iteration: 0740 cost=0.050107550\n",
            "iteration: 0750 cost=0.046066515\n",
            "iteration: 0760 cost=0.036847986\n",
            "iteration: 0770 cost=0.042011231\n",
            "iteration: 0780 cost=0.040811263\n",
            "iteration: 0790 cost=0.035365056\n",
            "iteration: 0800 cost=0.039999496\n",
            "iteration: 0810 cost=0.041414052\n",
            "iteration: 0820 cost=0.032762658\n",
            "iteration: 0830 cost=0.044216819\n",
            "iteration: 0840 cost=0.039642431\n",
            "iteration: 0850 cost=0.031194121\n",
            "iteration: 0860 cost=0.039539330\n",
            "iteration: 0870 cost=0.030606959\n",
            "iteration: 0880 cost=0.037621755\n",
            "iteration: 0890 cost=0.037969597\n",
            "iteration: 0900 cost=0.034977946\n",
            "iteration: 0910 cost=0.038268611\n",
            "iteration: 0920 cost=0.039155595\n",
            "iteration: 0930 cost=0.041524626\n",
            "iteration: 0940 cost=0.031120146\n",
            "iteration: 0950 cost=0.042716127\n",
            "iteration: 0960 cost=0.028038006\n",
            "iteration: 0970 cost=0.036136426\n",
            "iteration: 0980 cost=0.036937278\n",
            "iteration: 0990 cost=0.032688417\n",
            "iteration: 1000 cost=0.028510403\n"
          ],
          "name": "stdout"
        }
      ]
    },
    {
      "cell_type": "markdown",
      "metadata": {
        "id": "8ew3V-yAIHT5"
      },
      "source": [
        "# **Testing**"
      ]
    },
    {
      "cell_type": "code",
      "metadata": {
        "colab": {
          "base_uri": "https://localhost:8080/"
        },
        "id": "ZZ6BeujKIPl-",
        "outputId": "8bb185ea-3aae-4324-9d52-af41a4033dc4"
      },
      "source": [
        "print(len(testList))\n",
        "testdata=dataset.gen(testList,phase='Test')\n",
        "\n",
        "totalN=0\n",
        "totalP=0\n",
        "while True:\n",
        "  try:\n",
        "    images, classes = next(testdata)\n",
        "  except:\n",
        "    break\n",
        "  # print(classes)\n",
        "  images=tf.convert_to_tensor(images)\n",
        "  images=(images-127.5)/127.5\n",
        "  classes=tf.convert_to_tensor(classes)\n",
        "  y = multilayerNN(images)\n",
        "  yclass=tf.argmax(y,axis=-1)\n",
        "  classes=tf.argmax(classes,axis=-1)\n",
        "\n",
        "  p=tf.reduce_sum(tf.cast( tf.equal(yclass,classes), dtype='float32'))\n",
        "  totalP = totalP + p\n",
        "  totalN = totalN + batch_size\n",
        "\n",
        "  if iteration % display_step == 0:\n",
        "      print(\"totalN:\", '%04d' % (totalN), \"totalP:\", '%04d' % (totalP), \"Accuracy={:.9f}\".format(totalP*100/totalN))"
      ],
      "execution_count": 17,
      "outputs": [
        {
          "output_type": "stream",
          "text": [
            "10000\n",
            "Generated Finished\n",
            "totalN: 0256 totalP: 0237 Accuracy=92.578125000\n",
            "totalN: 0512 totalP: 0466 Accuracy=91.015625000\n",
            "totalN: 0768 totalP: 0697 Accuracy=90.755210876\n",
            "totalN: 1024 totalP: 0928 Accuracy=90.625000000\n",
            "totalN: 1280 totalP: 1156 Accuracy=90.312500000\n",
            "totalN: 1536 totalP: 1383 Accuracy=90.039062500\n",
            "totalN: 1792 totalP: 1614 Accuracy=90.066963196\n",
            "totalN: 2048 totalP: 1840 Accuracy=89.843750000\n",
            "totalN: 2304 totalP: 2063 Accuracy=89.539932251\n",
            "totalN: 2560 totalP: 2289 Accuracy=89.414062500\n",
            "totalN: 2816 totalP: 2525 Accuracy=89.666191101\n",
            "totalN: 3072 totalP: 2759 Accuracy=89.811195374\n",
            "totalN: 3328 totalP: 2991 Accuracy=89.873794556\n",
            "totalN: 3584 totalP: 3229 Accuracy=90.094863892\n",
            "totalN: 3840 totalP: 3469 Accuracy=90.338539124\n",
            "totalN: 4096 totalP: 3702 Accuracy=90.380859375\n",
            "totalN: 4352 totalP: 3930 Accuracy=90.303306580\n",
            "totalN: 4608 totalP: 4163 Accuracy=90.342880249\n",
            "totalN: 4864 totalP: 4404 Accuracy=90.542762756\n",
            "totalN: 5120 totalP: 4637 Accuracy=90.566406250\n",
            "totalN: 5376 totalP: 4863 Accuracy=90.457588196\n",
            "totalN: 5632 totalP: 5089 Accuracy=90.358665466\n",
            "totalN: 5888 totalP: 5318 Accuracy=90.319290161\n",
            "totalN: 6144 totalP: 5543 Accuracy=90.218101501\n",
            "totalN: 6400 totalP: 5777 Accuracy=90.265625000\n",
            "totalN: 6656 totalP: 6012 Accuracy=90.324516296\n",
            "totalN: 6912 totalP: 6251 Accuracy=90.436920166\n",
            "totalN: 7168 totalP: 6485 Accuracy=90.471542358\n",
            "totalN: 7424 totalP: 6714 Accuracy=90.436424255\n",
            "totalN: 7680 totalP: 6949 Accuracy=90.481773376\n",
            "totalN: 7936 totalP: 7182 Accuracy=90.498992920\n",
            "totalN: 8192 totalP: 7422 Accuracy=90.600585938\n",
            "totalN: 8448 totalP: 7651 Accuracy=90.565811157\n",
            "totalN: 8704 totalP: 7878 Accuracy=90.510108948\n",
            "totalN: 8960 totalP: 8113 Accuracy=90.546875000\n",
            "totalN: 9216 totalP: 8337 Accuracy=90.462242126\n",
            "totalN: 9472 totalP: 8569 Accuracy=90.466636658\n",
            "totalN: 9728 totalP: 8801 Accuracy=90.470802307\n",
            "totalN: 9984 totalP: 9042 Accuracy=90.564903259\n"
          ],
          "name": "stdout"
        }
      ]
    },
    {
      "cell_type": "markdown",
      "metadata": {
        "id": "7SCE2WMox0XL"
      },
      "source": [
        "In the first notebook, where we used FNN got very poor performance. But using CNN network we can see a great improvement in accuracy. This is because CNN is able to capture the spatial ralation of image pixels values."
      ]
    },
    {
      "cell_type": "markdown",
      "metadata": {
        "id": "UCbvKB67vlrZ"
      },
      "source": [
        "--------------------"
      ]
    }
  ]
}