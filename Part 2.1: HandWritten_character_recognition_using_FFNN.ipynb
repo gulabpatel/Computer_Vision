{
  "nbformat": 4,
  "nbformat_minor": 0,
  "metadata": {
    "colab": {
      "name": "Part 1: HandWritten_character_recognition_using_FNN.ipynb",
      "provenance": [],
      "collapsed_sections": [],
      "toc_visible": true,
      "include_colab_link": true
    },
    "kernelspec": {
      "display_name": "Python 3",
      "name": "python3"
    }
  },
  "cells": [
    {
      "cell_type": "markdown",
      "metadata": {
        "id": "view-in-github",
        "colab_type": "text"
      },
      "source": [
        "<a href=\"https://colab.research.google.com/github/gulabpatel/Computer_Vision/blob/main/Part%201%3A%20HandWritten_character_recognition_using_FNN.ipynb\" target=\"_parent\"><img src=\"https://colab.research.google.com/assets/colab-badge.svg\" alt=\"Open In Colab\"/></a>"
      ]
    },
    {
      "cell_type": "markdown",
      "metadata": {
        "id": "wIDtJf736QF8"
      },
      "source": [
        "To install a package, if it is not present in goole colaboratory, use the following code\n",
        "\n",
        "**!pip install packageName**"
      ]
    },
    {
      "cell_type": "code",
      "metadata": {
        "colab": {
          "base_uri": "https://localhost:8080/"
        },
        "id": "UzKQLp_bVqm6",
        "outputId": "e4ce9f26-10d7-4895-a02f-bc9d2826b3be"
      },
      "source": [
        "!pip install wget"
      ],
      "execution_count": 1,
      "outputs": [
        {
          "output_type": "stream",
          "text": [
            "Requirement already satisfied: wget in /usr/local/lib/python3.6/dist-packages (3.2)\n"
          ],
          "name": "stdout"
        }
      ]
    },
    {
      "cell_type": "markdown",
      "metadata": {
        "id": "OItDyQqm6sEA"
      },
      "source": [
        "import required packages"
      ]
    },
    {
      "cell_type": "code",
      "metadata": {
        "id": "Q9wJLT9y5lww"
      },
      "source": [
        "import os\n",
        "import numpy as np\n",
        "import cv2 \n",
        "import wget "
      ],
      "execution_count": 2,
      "outputs": []
    },
    {
      "cell_type": "markdown",
      "metadata": {
        "id": "uKUhtQBJ60wN"
      },
      "source": [
        "create a directory and change the current directory"
      ]
    },
    {
      "cell_type": "code",
      "metadata": {
        "colab": {
          "base_uri": "https://localhost:8080/"
        },
        "id": "DJ-GprmpAz6_",
        "outputId": "2aef7703-95ba-4479-fb54-ba44d6958dee"
      },
      "source": [
        "!pwd"
      ],
      "execution_count": 3,
      "outputs": [
        {
          "output_type": "stream",
          "text": [
            "/content\n"
          ],
          "name": "stdout"
        }
      ]
    },
    {
      "cell_type": "code",
      "metadata": {
        "id": "wr4SxHFt0tBT"
      },
      "source": [
        "rootDir='./Data'\n",
        "os.makedirs(rootDir, exist_ok=True)    \n",
        "        \n",
        "os.chdir(rootDir)"
      ],
      "execution_count": 4,
      "outputs": []
    },
    {
      "cell_type": "code",
      "metadata": {
        "colab": {
          "base_uri": "https://localhost:8080/"
        },
        "id": "-w54xUjzBFSX",
        "outputId": "7c6eac82-e7ea-442b-e381-a449aa1cdb05"
      },
      "source": [
        "!pwd"
      ],
      "execution_count": 5,
      "outputs": [
        {
          "output_type": "stream",
          "text": [
            "/content/Data\n"
          ],
          "name": "stdout"
        }
      ]
    },
    {
      "cell_type": "markdown",
      "metadata": {
        "id": "Zi392tRo7CPQ"
      },
      "source": [
        "Download dataset in the current directory. Information regarding these dataset can be found @ http://yann.lecun.com/exdb/mnist/"
      ]
    },
    {
      "cell_type": "code",
      "metadata": {
        "id": "ejj_Bxcc7L7q",
        "colab": {
          "base_uri": "https://localhost:8080/",
          "height": 35
        },
        "outputId": "69ce4435-4217-413a-a817-1200ac85d3cd"
      },
      "source": [
        "url = 'http://yann.lecun.com/exdb/mnist/train-images-idx3-ubyte.gz'\n",
        "wget.download(url)\n",
        "\n",
        "url = 'http://yann.lecun.com/exdb/mnist/train-labels-idx1-ubyte.gz'\n",
        "wget.download(url)\n",
        "\n",
        "url = 'http://yann.lecun.com/exdb/mnist/t10k-images-idx3-ubyte.gz'\n",
        "wget.download(url)\n",
        "\n",
        "url = 'http://yann.lecun.com/exdb/mnist/t10k-labels-idx1-ubyte.gz'\n",
        "wget.download(url)"
      ],
      "execution_count": 6,
      "outputs": [
        {
          "output_type": "execute_result",
          "data": {
            "application/vnd.google.colaboratory.intrinsic+json": {
              "type": "string"
            },
            "text/plain": [
              "'t10k-labels-idx1-ubyte (1).gz'"
            ]
          },
          "metadata": {
            "tags": []
          },
          "execution_count": 6
        }
      ]
    },
    {
      "cell_type": "markdown",
      "metadata": {
        "id": "_FLM0pNL7RXa"
      },
      "source": [
        "Extract the training data and store it in Train folder"
      ]
    },
    {
      "cell_type": "code",
      "metadata": {
        "colab": {
          "base_uri": "https://localhost:8080/"
        },
        "id": "K5ZNCJ3kCHYo",
        "outputId": "074b3464-9c9f-4a8e-e13a-185fd2dc098c"
      },
      "source": [
        "import gzip\r\n",
        "\r\n",
        "fx = gzip.open('train-images-idx3-ubyte.gz','r')\r\n",
        "fx.read(8)"
      ],
      "execution_count": 7,
      "outputs": [
        {
          "output_type": "execute_result",
          "data": {
            "text/plain": [
              "b'\\x00\\x00\\x08\\x03\\x00\\x00\\xea`'"
            ]
          },
          "metadata": {
            "tags": []
          },
          "execution_count": 7
        }
      ]
    },
    {
      "cell_type": "code",
      "metadata": {
        "id": "H9u9c99m0zBh"
      },
      "source": [
        "image_size = 28\n",
        "import gzip\n",
        "\n",
        "fx = gzip.open('train-images-idx3-ubyte.gz','r')\n",
        "fx.read(16)\n",
        "fy = gzip.open('train-labels-idx1-ubyte.gz','r')\n",
        "fy.read(8)\n",
        "count=0\n",
        "while 1:\n",
        "    labBuff=fy.read(1)\n",
        "    if not labBuff:\n",
        "        break\n",
        "    label = np.frombuffer(labBuff, dtype=np.uint8)[0]\n",
        "    buf = fx.read(image_size * image_size )\n",
        "    data = np.frombuffer(buf, dtype=np.uint8)\n",
        "    image = data.reshape(image_size, image_size)\n",
        "    parentDir='Train'+os.sep+str(label)\n",
        "    os.makedirs(parentDir, exist_ok=True)    \n",
        "    cv2.imwrite(parentDir+os.sep+str(count)+'.png',image)  \n",
        "    count += 1"
      ],
      "execution_count": 8,
      "outputs": []
    },
    {
      "cell_type": "markdown",
      "metadata": {
        "id": "Ou-b5H4z7aBL"
      },
      "source": [
        "Extract the testing data and store it in Test folder"
      ]
    },
    {
      "cell_type": "code",
      "metadata": {
        "id": "ERNR-WIu05mN"
      },
      "source": [
        "fx = gzip.open('t10k-images-idx3-ubyte.gz','r')\n",
        "fx.read(16)\n",
        "fy = gzip.open('t10k-labels-idx1-ubyte.gz','r')\n",
        "fy.read(8)\n",
        "count=0\n",
        "while 1:\n",
        "    labBuff=fy.read(1)\n",
        "    #print(labBuff)\n",
        "    if not labBuff:\n",
        "        break\n",
        "    label = np.frombuffer(labBuff, dtype=np.uint8)[0]\n",
        "    buf = fx.read(image_size * image_size )\n",
        "    #print(buf)\n",
        "    data = np.frombuffer(buf, dtype=np.uint8)\n",
        "    image = data.reshape(image_size, image_size)\n",
        "    parentDir='Test'+os.sep+str(label)\n",
        "    os.makedirs(parentDir, exist_ok=True)    \n",
        "    cv2.imwrite(parentDir+os.sep+str(count)+'.png',image)  \n",
        "    count += 1"
      ],
      "execution_count": 9,
      "outputs": []
    },
    {
      "cell_type": "markdown",
      "metadata": {
        "id": "d41jRMAWNHe0"
      },
      "source": [
        "Let create Training and Testing Dataset"
      ]
    },
    {
      "cell_type": "code",
      "metadata": {
        "id": "-pF2MQpQNPlN",
        "colab": {
          "base_uri": "https://localhost:8080/"
        },
        "outputId": "5574f965-e38a-4eb4-a277-367e548fd28f"
      },
      "source": [
        "from random import shuffle\n",
        "import tensorflow as tf \n",
        "import matplotlib.pyplot as plt\n",
        "import cv2 \n",
        "\n",
        "print(os.getcwd())\n",
        "rootDir='/'\n",
        "os.chdir(rootDir)"
      ],
      "execution_count": 10,
      "outputs": [
        {
          "output_type": "stream",
          "text": [
            "/content/Data\n"
          ],
          "name": "stdout"
        }
      ]
    },
    {
      "cell_type": "code",
      "metadata": {
        "colab": {
          "base_uri": "https://localhost:8080/"
        },
        "id": "5W7cCFF3OGsW",
        "outputId": "7778f253-9e28-4f0b-d1d5-2a7a243312f8"
      },
      "source": [
        "!pwd"
      ],
      "execution_count": 11,
      "outputs": [
        {
          "output_type": "stream",
          "text": [
            "/\n"
          ],
          "name": "stdout"
        }
      ]
    },
    {
      "cell_type": "code",
      "metadata": {
        "id": "i_v8i6npDpBa"
      },
      "source": [
        "rootDir='./content/Data/Train'\n",
        "trainList=[]\n",
        "for path, subdirs, files in os.walk(rootDir):\n",
        "  for name in files:\n",
        "    if not name.endswith('.png'):\n",
        "        continue  \n",
        "    \n",
        "    imPath=os.path.join(path, name); \n",
        "    # print(imPath)\n",
        "    parts=imPath.split(os.sep);   \n",
        "    trainList.append([imPath, int(parts[-2])])\n",
        "        \n",
        "        \n",
        "rootDir='./content/Data/Test'\n",
        "testList=[]\n",
        "for path, subdirs, files in os.walk(rootDir):\n",
        "    for name in files:\n",
        "        if not name.endswith('.png'):\n",
        "            continue  \n",
        "        \n",
        "        imPath=os.path.join(path, name); \n",
        "        # print(imPath)\n",
        "        parts=imPath.split(os.sep); \n",
        "        testList.append([imPath, int(parts[-2])])\n"
      ],
      "execution_count": 12,
      "outputs": []
    },
    {
      "cell_type": "markdown",
      "metadata": {
        "id": "8xTDdhxPS9cg"
      },
      "source": [
        "#Create MNIST Dataset"
      ]
    },
    {
      "cell_type": "code",
      "metadata": {
        "id": "XQ4RgD8sS7xi"
      },
      "source": [
        "class create_mnist_dataset(object):\r\n",
        "    def __init__(self,batch_size):\r\n",
        "        self.batch_size=batch_size\r\n",
        "    def gen(self,dataList, phase='Train'):\r\n",
        "        inps=[]\r\n",
        "        labels=[]\r\n",
        "        try:\r\n",
        "          while 1:\r\n",
        "              shuffle(dataList)\r\n",
        "              for imPath, label in dataList:\r\n",
        "                  # print(imPath)\r\n",
        "                  tmp=np.zeros((1,1,10),dtype='uint8')\r\n",
        "                  tmp[0,0,int(label)]=1\r\n",
        "                  labels.append(tmp.copy())\r\n",
        "                  image=cv2.imread(imPath,0) ### we want to read image as gray\r\n",
        "                  image.shape\r\n",
        "                  inps.append(np.expand_dims(image,axis=-1))\r\n",
        "                  if len(labels)==self.batch_size:            \r\n",
        "                      yield np.asarray(inps,dtype='float32'), np.asarray(labels,dtype='float32')\r\n",
        "                      inps=[]\r\n",
        "                      labels=[]\r\n",
        "              if phase=='Test':\r\n",
        "                  break\r\n",
        "        except GeneratorExit:\r\n",
        "          print(\"Generated Finished\")\r\n",
        "\r\n",
        "batch_size=256\r\n",
        "# print(len(trainList))\r\n",
        "dataset=create_mnist_dataset(batch_size)\r\n",
        "traindata=dataset.gen(trainList)"
      ],
      "execution_count": 13,
      "outputs": []
    },
    {
      "cell_type": "markdown",
      "metadata": {
        "id": "EEoBGZV3Ss7a"
      },
      "source": [
        "#Plot data"
      ]
    },
    {
      "cell_type": "code",
      "metadata": {
        "colab": {
          "base_uri": "https://localhost:8080/",
          "height": 248
        },
        "id": "RCtkc_DGQtkZ",
        "outputId": "dcb8a5d2-fc20-4992-875f-b0ce6a16dcfd"
      },
      "source": [
        "#%matplotlib inline\n",
        "\n",
        "testdata=dataset.gen(testList,phase='Test')\n",
        "vimages, vclasses = next( testdata)\n",
        "\n",
        "# Fill out the subplots with the random images that you defined \n",
        "for i in range(9):\n",
        "    plt.subplot(3, 3, i+1)\n",
        "    plt.axis('off')\n",
        "    plt.imshow(vimages[i].reshape(28,28))\n",
        "    plt.subplots_adjust(wspace=0.5)\n",
        "plt.show()"
      ],
      "execution_count": 14,
      "outputs": [
        {
          "output_type": "display_data",
          "data": {
            "image/png": "[encoded data removed]",
            "text/plain": [
              "<Figure size 432x288 with 9 Axes>"
            ]
          },
          "metadata": {
            "tags": [],
            "needs_background": "light"
          }
        }
      ]
    },
    {
      "cell_type": "markdown",
      "metadata": {
        "id": "TbU-shLuSkWJ"
      },
      "source": [
        "#Parameter Initialization\r\n"
      ]
    },
    {
      "cell_type": "code",
      "metadata": {
        "id": "KQUaI2slQyz3"
      },
      "source": [
        "# Parameters\n",
        "learning_rate = 0.01\n",
        "training_iteration = 5000\n",
        "display_step = 10\n",
        "\n",
        "\n",
        "# Network Parameters\n",
        "n_hidden_1 = 256 # 1st layer number of neurons\n",
        "n_hidden_2 = 256 # 2nd layer number of neurons\n",
        "n_input = 784 # MNIST data input (img shape: 28*28)\n",
        "n_classes = 10 # MNIST total classes (0-9 digits)"
      ],
      "execution_count": 15,
      "outputs": []
    },
    {
      "cell_type": "markdown",
      "metadata": {
        "id": "0AbCkCFNSeQL"
      },
      "source": [
        "#Weight and Bias Initialization"
      ]
    },
    {
      "cell_type": "code",
      "metadata": {
        "id": "hNWGdp2ZSZNN"
      },
      "source": [
        "# Store layers weight & bias\r\n",
        "\r\n",
        "initializer=tf.keras.initializers.HeNormal()  \r\n",
        "# initializer=tf.keras.initializers.HeUniform()\r\n",
        "# initializer = tf.initializers.orthogonal(gain=1.0) \r\n",
        "# initializer = tf.initializers.VarianceScaling(scale=1.0, mode='fan_in', distribution='truncated_normal')  \r\n",
        "# initializer = tf.initializers.glorot_uniform()  \r\n",
        "# initializer = tf.initializers.glorot_normal()  \r\n",
        "# initializer = tf.initializers.RandomUniform(minval=-1.0, maxval=1.0)  \r\n",
        "# initializer = tf.initializers.RandomNormal(mean=0, stddev=1.0)  \r\n",
        "\r\n",
        "# Store layers weight & bias\r\n",
        "weights = {\r\n",
        "    'h1': tf.Variable(initializer([n_input, n_hidden_1]),trainable=True),\r\n",
        "    'h2': tf.Variable(initializer([n_hidden_1, n_hidden_2]),trainable=True),\r\n",
        "    'out': tf.Variable(initializer([n_hidden_2, n_classes]),trainable=True)\r\n",
        "}\r\n",
        "biases = {\r\n",
        "    'b1': tf.Variable(tf.zeros([n_hidden_1]),trainable=True),\r\n",
        "    'b2': tf.Variable(tf.zeros([n_hidden_2]),trainable=True),\r\n",
        "    'out': tf.Variable(tf.zeros([n_classes]),trainable=True)\r\n",
        "}\r\n",
        "\r\n",
        "varList=[]\r\n",
        "for key in weights:\r\n",
        "  varList.append(weights[key])\r\n",
        "for key in biases:\r\n",
        "  varList.append(biases[key])"
      ],
      "execution_count": 16,
      "outputs": []
    },
    {
      "cell_type": "markdown",
      "metadata": {
        "id": "vPh-qwlJSWTs"
      },
      "source": [
        "#Model Building"
      ]
    },
    {
      "cell_type": "code",
      "metadata": {
        "id": "QY7lX7GASVbF"
      },
      "source": [
        "# Create model\r\n",
        "def multilayerNN(x):\r\n",
        "    x=tf.reshape(x,[-1,1,1,n_input])\r\n",
        "    # print(tf.reduce_mean(x))\r\n",
        "    # Hidden fully connected layer with 256 neurons\r\n",
        "    layer_1 = tf.add(tf.matmul(x, weights['h1']), biases['b1'])\r\n",
        "    layer_1=tf.nn.leaky_relu(    layer_1,    alpha=0.2)\r\n",
        "    # print(weights['h1'])\r\n",
        "    # Hidden fully connected layer with 256 neurons\r\n",
        "    layer_2 = tf.add(tf.matmul(layer_1, weights['h2']), biases['b2'])\r\n",
        "    layer_2=tf.nn.leaky_relu(    layer_2,    alpha=0.2)\r\n",
        "    # print(layer_2)\r\n",
        "    # Output fully connected layer with a neuron for each class\r\n",
        "    out_layer = tf.matmul(layer_2, weights['out']) + biases['out']\r\n",
        "    # y=tf.nn.sigmoid(out_layer)\r\n",
        "    # y=tf.clip_by_value(tf.nn.softmax(out_layer),0.01,0.99)\r\n",
        "    y=tf.nn.softmax(out_layer)\r\n",
        "    return y\r\n",
        "\r\n",
        "\r\n",
        "optimizer = tf.keras.optimizers.Adadelta(learning_rate=learning_rate, rho=0.95, epsilon=10.0**-7)\r\n",
        "# optimizer = tf.keras.optimizers.SGD( learning_rate=learning_rate, momentum=0.0)"
      ],
      "execution_count": 17,
      "outputs": []
    },
    {
      "cell_type": "markdown",
      "metadata": {
        "id": "FGIf7AYsTMj3"
      },
      "source": [
        "#Training"
      ]
    },
    {
      "cell_type": "code",
      "metadata": {
        "colab": {
          "base_uri": "https://localhost:8080/"
        },
        "id": "PNrj2XlzZ4b7",
        "outputId": "d2c492e8-aca8-4be2-b77b-b9f905856649"
      },
      "source": [
        "iteration=0\n",
        "while iteration<training_iteration:\n",
        "  iteration = iteration + 1 \n",
        "  images, classes = next(traindata)\n",
        "  # print(classes)\n",
        "  images=tf.convert_to_tensor(images)\n",
        "  images=(images-127.5)/127.5\n",
        "  classes=tf.convert_to_tensor(classes)\n",
        "  with tf.GradientTape(watch_accessed_variables=True) as tape:\n",
        "    tape.watch(varList)\n",
        "    y = multilayerNN(images)\n",
        "    # print(y)\n",
        "    loss = tf.reduce_mean(-classes*tf.math.log(y))\n",
        "\n",
        "  gradients = tape.gradient(loss, varList)\n",
        "  optimizer.apply_gradients(zip(gradients, varList))\n",
        "\n",
        "  \n",
        "  # Display loss per epoch step\n",
        "  if iteration % display_step == 0:\n",
        "      print(\"iteration:\", '%04d' % (iteration), \"cost={:.9f}\".format(loss))"
      ],
      "execution_count": null,
      "outputs": [
        {
          "output_type": "stream",
          "text": [
            "iteration: 0010 cost=0.308579445\n",
            "iteration: 0020 cost=0.291639149\n",
            "iteration: 0030 cost=0.271408468\n",
            "iteration: 0040 cost=0.270296723\n",
            "iteration: 0050 cost=0.252011687\n",
            "iteration: 0060 cost=0.247878119\n",
            "iteration: 0070 cost=0.233165935\n",
            "iteration: 0080 cost=0.226987362\n",
            "iteration: 0090 cost=0.226928234\n",
            "iteration: 0100 cost=0.227312952\n",
            "iteration: 0110 cost=0.219239518\n",
            "iteration: 0120 cost=0.216901109\n",
            "iteration: 0130 cost=0.220901370\n",
            "iteration: 0140 cost=0.210094139\n",
            "iteration: 0150 cost=0.198058769\n",
            "iteration: 0160 cost=0.206149548\n",
            "iteration: 0170 cost=0.199050710\n",
            "iteration: 0180 cost=0.196185350\n",
            "iteration: 0190 cost=0.194025636\n",
            "iteration: 0200 cost=0.188180640\n",
            "iteration: 0210 cost=0.185886979\n",
            "iteration: 0220 cost=0.184334010\n",
            "iteration: 0230 cost=0.178885847\n",
            "iteration: 0240 cost=0.172375113\n",
            "iteration: 0250 cost=0.168107316\n",
            "iteration: 0260 cost=0.167498857\n",
            "iteration: 0270 cost=0.165391773\n",
            "iteration: 0280 cost=0.162013143\n",
            "iteration: 0290 cost=0.171202257\n",
            "iteration: 0300 cost=0.164727554\n",
            "iteration: 0310 cost=0.160664916\n",
            "iteration: 0320 cost=0.156750962\n",
            "iteration: 0330 cost=0.159507439\n",
            "iteration: 0340 cost=0.155631274\n",
            "iteration: 0350 cost=0.148209527\n",
            "iteration: 0360 cost=0.149370342\n",
            "iteration: 0370 cost=0.140768960\n",
            "iteration: 0380 cost=0.144005865\n",
            "iteration: 0390 cost=0.136723340\n",
            "iteration: 0400 cost=0.142773837\n",
            "iteration: 0410 cost=0.132054850\n",
            "iteration: 0420 cost=0.133047864\n",
            "iteration: 0430 cost=0.129206598\n",
            "iteration: 0440 cost=0.134609908\n",
            "iteration: 0450 cost=0.129837006\n",
            "iteration: 0460 cost=0.130854607\n",
            "iteration: 0470 cost=0.124520585\n",
            "iteration: 0480 cost=0.129668370\n",
            "iteration: 0490 cost=0.121122502\n",
            "iteration: 0500 cost=0.119755067\n",
            "iteration: 0510 cost=0.120040037\n",
            "iteration: 0520 cost=0.119442128\n",
            "iteration: 0530 cost=0.114692733\n",
            "iteration: 0540 cost=0.127959251\n",
            "iteration: 0550 cost=0.113737151\n",
            "iteration: 0560 cost=0.118674256\n",
            "iteration: 0570 cost=0.112711206\n",
            "iteration: 0580 cost=0.113667712\n",
            "iteration: 0590 cost=0.108622983\n",
            "iteration: 0600 cost=0.108203575\n",
            "iteration: 0610 cost=0.108917460\n",
            "iteration: 0620 cost=0.109287754\n",
            "iteration: 0630 cost=0.106140040\n",
            "iteration: 0640 cost=0.104601979\n",
            "iteration: 0650 cost=0.108149096\n",
            "iteration: 0660 cost=0.102624461\n",
            "iteration: 0670 cost=0.105166554\n",
            "iteration: 0680 cost=0.107170030\n",
            "iteration: 0690 cost=0.099706948\n",
            "iteration: 0700 cost=0.101724938\n",
            "iteration: 0710 cost=0.091445699\n",
            "iteration: 0720 cost=0.097679928\n",
            "iteration: 0730 cost=0.098955169\n",
            "iteration: 0740 cost=0.105958939\n",
            "iteration: 0750 cost=0.094387159\n",
            "iteration: 0760 cost=0.094245866\n",
            "iteration: 0770 cost=0.093527243\n",
            "iteration: 0780 cost=0.090152673\n",
            "iteration: 0790 cost=0.090452448\n",
            "iteration: 0800 cost=0.087184303\n",
            "iteration: 0810 cost=0.081250310\n",
            "iteration: 0820 cost=0.092340067\n",
            "iteration: 0830 cost=0.082479529\n",
            "iteration: 0840 cost=0.084128499\n",
            "iteration: 0850 cost=0.093415573\n",
            "iteration: 0860 cost=0.092642799\n",
            "iteration: 0870 cost=0.099223033\n",
            "iteration: 0880 cost=0.084989980\n",
            "iteration: 0890 cost=0.086521007\n",
            "iteration: 0900 cost=0.086887196\n",
            "iteration: 0910 cost=0.094180092\n",
            "iteration: 0920 cost=0.077294193\n",
            "iteration: 0930 cost=0.085070014\n",
            "iteration: 0940 cost=0.078066662\n",
            "iteration: 0950 cost=0.081832513\n",
            "iteration: 0960 cost=0.079674497\n",
            "iteration: 0970 cost=0.073265113\n",
            "iteration: 0980 cost=0.074436702\n",
            "iteration: 0990 cost=0.077985927\n",
            "iteration: 1000 cost=0.081348330\n",
            "iteration: 1010 cost=0.080987841\n",
            "iteration: 1020 cost=0.075997196\n",
            "iteration: 1030 cost=0.073784932\n",
            "iteration: 1040 cost=0.080243558\n",
            "iteration: 1050 cost=0.080191299\n",
            "iteration: 1060 cost=0.083736449\n",
            "iteration: 1070 cost=0.069937244\n",
            "iteration: 1080 cost=0.085271873\n",
            "iteration: 1090 cost=0.063628249\n",
            "iteration: 1100 cost=0.083426453\n",
            "iteration: 1110 cost=0.072471336\n",
            "iteration: 1120 cost=0.072373904\n",
            "iteration: 1130 cost=0.084216066\n",
            "iteration: 1140 cost=0.077165902\n",
            "iteration: 1150 cost=0.062348701\n",
            "iteration: 1160 cost=0.078041039\n",
            "iteration: 1170 cost=0.064980671\n",
            "iteration: 1180 cost=0.065802276\n",
            "iteration: 1190 cost=0.063083477\n",
            "iteration: 1200 cost=0.068863392\n",
            "iteration: 1210 cost=0.064657681\n",
            "iteration: 1220 cost=0.063416779\n",
            "iteration: 1230 cost=0.079560459\n",
            "iteration: 1240 cost=0.071413636\n",
            "iteration: 1250 cost=0.065833189\n",
            "iteration: 1260 cost=0.069323197\n",
            "iteration: 1270 cost=0.072866336\n",
            "iteration: 1280 cost=0.072614491\n",
            "iteration: 1290 cost=0.066282831\n",
            "iteration: 1300 cost=0.073601343\n",
            "iteration: 1310 cost=0.066844270\n",
            "iteration: 1320 cost=0.062006067\n",
            "iteration: 1330 cost=0.068252392\n",
            "iteration: 1340 cost=0.065303020\n",
            "iteration: 1350 cost=0.060117453\n",
            "iteration: 1360 cost=0.061835609\n",
            "iteration: 1370 cost=0.069128118\n",
            "iteration: 1380 cost=0.063126557\n",
            "iteration: 1390 cost=0.066550709\n",
            "iteration: 1400 cost=0.065405086\n",
            "iteration: 1410 cost=0.066847906\n",
            "iteration: 1420 cost=0.068759039\n",
            "iteration: 1430 cost=0.070192575\n",
            "iteration: 1440 cost=0.063739732\n",
            "iteration: 1450 cost=0.057467461\n",
            "iteration: 1460 cost=0.067264453\n",
            "iteration: 1470 cost=0.065430589\n",
            "iteration: 1480 cost=0.065365002\n",
            "iteration: 1490 cost=0.067057125\n",
            "iteration: 1500 cost=0.066640131\n",
            "iteration: 1510 cost=0.067007005\n",
            "iteration: 1520 cost=0.063615918\n",
            "iteration: 1530 cost=0.071197368\n",
            "iteration: 1540 cost=0.060838263\n",
            "iteration: 1550 cost=0.070156097\n",
            "iteration: 1560 cost=0.056122817\n",
            "iteration: 1570 cost=0.055062383\n",
            "iteration: 1580 cost=0.063934378\n",
            "iteration: 1590 cost=0.056434166\n",
            "iteration: 1600 cost=0.066403806\n",
            "iteration: 1610 cost=0.059334446\n",
            "iteration: 1620 cost=0.060095228\n",
            "iteration: 1630 cost=0.059582449\n",
            "iteration: 1640 cost=0.059941448\n",
            "iteration: 1650 cost=0.050527580\n",
            "iteration: 1660 cost=0.056692064\n",
            "iteration: 1670 cost=0.050896861\n",
            "iteration: 1680 cost=0.060278367\n",
            "iteration: 1690 cost=0.056888431\n",
            "iteration: 1700 cost=0.062661476\n",
            "iteration: 1710 cost=0.055966157\n",
            "iteration: 1720 cost=0.058668245\n",
            "iteration: 1730 cost=0.051656734\n",
            "iteration: 1740 cost=0.054784931\n",
            "iteration: 1750 cost=0.068227448\n",
            "iteration: 1760 cost=0.056771230\n",
            "iteration: 1770 cost=0.059680831\n",
            "iteration: 1780 cost=0.061587263\n",
            "iteration: 1790 cost=0.061032187\n",
            "iteration: 1800 cost=0.053637851\n",
            "iteration: 1810 cost=0.061082460\n",
            "iteration: 1820 cost=0.052913714\n",
            "iteration: 1830 cost=0.055302788\n",
            "iteration: 1840 cost=0.057000428\n",
            "iteration: 1850 cost=0.054075729\n",
            "iteration: 1860 cost=0.051799934\n",
            "iteration: 1870 cost=0.059928309\n",
            "iteration: 1880 cost=0.058644067\n",
            "iteration: 1890 cost=0.052089702\n",
            "iteration: 1900 cost=0.049931932\n",
            "iteration: 1910 cost=0.049672179\n",
            "iteration: 1920 cost=0.058001213\n",
            "iteration: 1930 cost=0.053694613\n",
            "iteration: 1940 cost=0.057463951\n",
            "iteration: 1950 cost=0.055127192\n",
            "iteration: 1960 cost=0.059689630\n",
            "iteration: 1970 cost=0.060319800\n",
            "iteration: 1980 cost=0.050882973\n",
            "iteration: 1990 cost=0.048689287\n",
            "iteration: 2000 cost=0.063848928\n",
            "iteration: 2010 cost=0.052899767\n",
            "iteration: 2020 cost=0.054895233\n",
            "iteration: 2030 cost=0.053363658\n",
            "iteration: 2040 cost=0.057082497\n",
            "iteration: 2050 cost=0.051670335\n",
            "iteration: 2060 cost=0.053562880\n",
            "iteration: 2070 cost=0.055460405\n",
            "iteration: 2080 cost=0.051893890\n",
            "iteration: 2090 cost=0.052229106\n",
            "iteration: 2100 cost=0.054349639\n",
            "iteration: 2110 cost=0.052399635\n",
            "iteration: 2120 cost=0.059504129\n",
            "iteration: 2130 cost=0.051483452\n",
            "iteration: 2140 cost=0.059296586\n",
            "iteration: 2150 cost=0.041737400\n",
            "iteration: 2160 cost=0.050185401\n",
            "iteration: 2170 cost=0.045639168\n",
            "iteration: 2180 cost=0.047728132\n",
            "iteration: 2190 cost=0.051795162\n",
            "iteration: 2200 cost=0.050505497\n",
            "iteration: 2210 cost=0.043589421\n",
            "iteration: 2220 cost=0.051767457\n",
            "iteration: 2230 cost=0.060984861\n",
            "iteration: 2240 cost=0.051114388\n",
            "iteration: 2250 cost=0.046907298\n",
            "iteration: 2260 cost=0.048520658\n",
            "iteration: 2270 cost=0.052604754\n",
            "iteration: 2280 cost=0.047536597\n",
            "iteration: 2290 cost=0.051593851\n",
            "iteration: 2300 cost=0.045399554\n",
            "iteration: 2310 cost=0.047823798\n",
            "iteration: 2320 cost=0.060434498\n",
            "iteration: 2330 cost=0.050081085\n",
            "iteration: 2340 cost=0.048490349\n",
            "iteration: 2350 cost=0.052282501\n",
            "iteration: 2360 cost=0.052757882\n",
            "iteration: 2370 cost=0.049059104\n",
            "iteration: 2380 cost=0.053667385\n",
            "iteration: 2390 cost=0.055078823\n",
            "iteration: 2400 cost=0.047121804\n",
            "iteration: 2410 cost=0.045214254\n",
            "iteration: 2420 cost=0.046599992\n",
            "iteration: 2430 cost=0.053085517\n",
            "iteration: 2440 cost=0.051513225\n",
            "iteration: 2450 cost=0.057009496\n",
            "iteration: 2460 cost=0.052562285\n",
            "iteration: 2470 cost=0.043775409\n",
            "iteration: 2480 cost=0.049644571\n",
            "iteration: 2490 cost=0.053291071\n",
            "iteration: 2500 cost=0.050767433\n",
            "iteration: 2510 cost=0.041840415\n",
            "iteration: 2520 cost=0.043162175\n",
            "iteration: 2530 cost=0.049617756\n",
            "iteration: 2540 cost=0.048986699\n",
            "iteration: 2550 cost=0.055280603\n",
            "iteration: 2560 cost=0.047205586\n",
            "iteration: 2570 cost=0.049189936\n",
            "iteration: 2580 cost=0.053568505\n",
            "iteration: 2590 cost=0.051876962\n",
            "iteration: 2600 cost=0.044972114\n",
            "iteration: 2610 cost=0.041234385\n",
            "iteration: 2620 cost=0.041408125\n",
            "iteration: 2630 cost=0.048094083\n",
            "iteration: 2640 cost=0.048909120\n",
            "iteration: 2650 cost=0.050745081\n",
            "iteration: 2660 cost=0.044857137\n",
            "iteration: 2670 cost=0.045711089\n",
            "iteration: 2680 cost=0.043685906\n",
            "iteration: 2690 cost=0.048982460\n",
            "iteration: 2700 cost=0.050992608\n",
            "iteration: 2710 cost=0.054997720\n",
            "iteration: 2720 cost=0.050457906\n",
            "iteration: 2730 cost=0.045698736\n",
            "iteration: 2740 cost=0.047068097\n",
            "iteration: 2750 cost=0.052164841\n",
            "iteration: 2760 cost=0.038509212\n",
            "iteration: 2770 cost=0.040942218\n",
            "iteration: 2780 cost=0.051428504\n",
            "iteration: 2790 cost=0.054861445\n",
            "iteration: 2800 cost=0.050795116\n",
            "iteration: 2810 cost=0.042392813\n",
            "iteration: 2820 cost=0.054200806\n",
            "iteration: 2830 cost=0.045739532\n",
            "iteration: 2840 cost=0.043914076\n",
            "iteration: 2850 cost=0.043075357\n",
            "iteration: 2860 cost=0.044586431\n",
            "iteration: 2870 cost=0.041634992\n",
            "iteration: 2880 cost=0.040111046\n",
            "iteration: 2890 cost=0.044959672\n",
            "iteration: 2900 cost=0.034329541\n",
            "iteration: 2910 cost=0.047144279\n",
            "iteration: 2920 cost=0.044905584\n",
            "iteration: 2930 cost=0.049522500\n",
            "iteration: 2940 cost=0.043997981\n",
            "iteration: 2950 cost=0.051460594\n",
            "iteration: 2960 cost=0.046610620\n",
            "iteration: 2970 cost=0.041643165\n",
            "iteration: 2980 cost=0.040730439\n",
            "iteration: 2990 cost=0.050284136\n",
            "iteration: 3000 cost=0.046004124\n",
            "iteration: 3010 cost=0.036842842\n",
            "iteration: 3020 cost=0.034301966\n",
            "iteration: 3030 cost=0.048415519\n",
            "iteration: 3040 cost=0.039186429\n",
            "iteration: 3050 cost=0.048165698\n",
            "iteration: 3060 cost=0.043416925\n",
            "iteration: 3070 cost=0.050793886\n",
            "iteration: 3080 cost=0.045140970\n",
            "iteration: 3090 cost=0.048082378\n",
            "iteration: 3100 cost=0.040296026\n",
            "iteration: 3110 cost=0.040262900\n",
            "iteration: 3120 cost=0.040904328\n",
            "iteration: 3130 cost=0.041548837\n",
            "iteration: 3140 cost=0.046043396\n",
            "iteration: 3150 cost=0.040785544\n",
            "iteration: 3160 cost=0.043943834\n",
            "iteration: 3170 cost=0.047322065\n",
            "iteration: 3180 cost=0.039477326\n",
            "iteration: 3190 cost=0.038935386\n",
            "iteration: 3200 cost=0.047264196\n",
            "iteration: 3210 cost=0.043332178\n",
            "iteration: 3220 cost=0.044483721\n",
            "iteration: 3230 cost=0.043222744\n",
            "iteration: 3240 cost=0.042333633\n",
            "iteration: 3250 cost=0.051120333\n",
            "iteration: 3260 cost=0.043820705\n",
            "iteration: 3270 cost=0.043187566\n",
            "iteration: 3280 cost=0.042745940\n",
            "iteration: 3290 cost=0.046081100\n",
            "iteration: 3300 cost=0.043057296\n",
            "iteration: 3310 cost=0.036571681\n",
            "iteration: 3320 cost=0.051169991\n",
            "iteration: 3330 cost=0.044321429\n",
            "iteration: 3340 cost=0.050585598\n",
            "iteration: 3350 cost=0.041772299\n",
            "iteration: 3360 cost=0.041354705\n",
            "iteration: 3370 cost=0.055741869\n",
            "iteration: 3380 cost=0.035694685\n",
            "iteration: 3390 cost=0.056926407\n",
            "iteration: 3400 cost=0.040226478\n",
            "iteration: 3410 cost=0.040375002\n",
            "iteration: 3420 cost=0.044674743\n",
            "iteration: 3430 cost=0.047949009\n",
            "iteration: 3440 cost=0.043074332\n",
            "iteration: 3450 cost=0.040662233\n",
            "iteration: 3460 cost=0.046151053\n",
            "iteration: 3470 cost=0.037538189\n",
            "iteration: 3480 cost=0.042618580\n",
            "iteration: 3490 cost=0.045421515\n",
            "iteration: 3500 cost=0.039452665\n",
            "iteration: 3510 cost=0.040281646\n",
            "iteration: 3520 cost=0.034026016\n",
            "iteration: 3530 cost=0.045038432\n",
            "iteration: 3540 cost=0.042814605\n",
            "iteration: 3550 cost=0.040097725\n",
            "iteration: 3560 cost=0.033747457\n",
            "iteration: 3570 cost=0.038868621\n",
            "iteration: 3580 cost=0.042297218\n",
            "iteration: 3590 cost=0.040220052\n",
            "iteration: 3600 cost=0.051164448\n",
            "iteration: 3610 cost=0.036796987\n",
            "iteration: 3620 cost=0.044900540\n",
            "iteration: 3630 cost=0.046225987\n",
            "iteration: 3640 cost=0.052790575\n",
            "iteration: 3650 cost=0.042856075\n",
            "iteration: 3660 cost=0.037021868\n",
            "iteration: 3670 cost=0.044042923\n",
            "iteration: 3680 cost=0.035176713\n",
            "iteration: 3690 cost=0.038663846\n",
            "iteration: 3700 cost=0.043935187\n",
            "iteration: 3710 cost=0.033923913\n",
            "iteration: 3720 cost=0.045506917\n",
            "iteration: 3730 cost=0.044688981\n",
            "iteration: 3740 cost=0.048281260\n",
            "iteration: 3750 cost=0.042768158\n",
            "iteration: 3760 cost=0.046428841\n",
            "iteration: 3770 cost=0.055625439\n",
            "iteration: 3780 cost=0.041918181\n",
            "iteration: 3790 cost=0.045322042\n",
            "iteration: 3800 cost=0.042060096\n",
            "iteration: 3810 cost=0.048689544\n",
            "iteration: 3820 cost=0.042981058\n",
            "iteration: 3830 cost=0.045153785\n",
            "iteration: 3840 cost=0.035410494\n"
          ],
          "name": "stdout"
        }
      ]
    },
    {
      "cell_type": "markdown",
      "metadata": {
        "id": "IDriRj8HFyjg"
      },
      "source": [
        "# Testing"
      ]
    },
    {
      "cell_type": "code",
      "metadata": {
        "colab": {
          "base_uri": "https://localhost:8080/"
        },
        "id": "J5uLNMthF_e3",
        "outputId": "309ef611-11e5-40af-a351-74816c7d82ae"
      },
      "source": [
        "print(len(testList))\n",
        "testdata=dataset.gen(testList,phase='Test')\n",
        "\n",
        "totalN=0\n",
        "totalP=0\n",
        "while True:\n",
        "  try:\n",
        "    images, classes = next(testdata)\n",
        "  except:\n",
        "    break\n",
        "  # print(classes)\n",
        "  images=tf.convert_to_tensor(images)\n",
        "  images=(images-127.5)/127.5\n",
        "  classes=tf.convert_to_tensor(classes)\n",
        "  y = multilayerNN(images)\n",
        "  yclass=tf.argmax(y,axis=-1)\n",
        "  classes=tf.argmax(classes,axis=-1)\n",
        "\n",
        "  p=tf.reduce_sum(tf.cast( tf.equal(yclass,classes), dtype='float32'))\n",
        "  totalP = totalP + p\n",
        "  totalN = totalN + batch_size\n",
        "\n",
        "  if iteration % display_step == 0:\n",
        "      print(\"totalN:\", '%04d' % (totalN), \"totalP:\", '%04d' % (totalP), \"Accuracy={:.9f}\".format(totalP*100/totalN))"
      ],
      "execution_count": 20,
      "outputs": [
        {
          "output_type": "stream",
          "text": [
            "18968\n",
            "totalN: 0256 totalP: 0132 Accuracy=51.562500000\n",
            "totalN: 0512 totalP: 0265 Accuracy=51.757812500\n",
            "totalN: 0768 totalP: 0406 Accuracy=52.864582062\n",
            "totalN: 1024 totalP: 0537 Accuracy=52.441406250\n",
            "totalN: 1280 totalP: 0674 Accuracy=52.656250000\n",
            "totalN: 1536 totalP: 0809 Accuracy=52.669269562\n",
            "totalN: 1792 totalP: 0930 Accuracy=51.897319794\n",
            "totalN: 2048 totalP: 1065 Accuracy=52.001953125\n",
            "totalN: 2304 totalP: 1206 Accuracy=52.343750000\n",
            "totalN: 2560 totalP: 1329 Accuracy=51.914062500\n",
            "totalN: 2816 totalP: 1466 Accuracy=52.059658051\n",
            "totalN: 3072 totalP: 1610 Accuracy=52.408855438\n",
            "totalN: 3328 totalP: 1730 Accuracy=51.983173370\n",
            "totalN: 3584 totalP: 1862 Accuracy=51.953125000\n",
            "totalN: 3840 totalP: 1991 Accuracy=51.848957062\n",
            "totalN: 4096 totalP: 2109 Accuracy=51.489257812\n",
            "totalN: 4352 totalP: 2239 Accuracy=51.447608948\n",
            "totalN: 4608 totalP: 2378 Accuracy=51.605903625\n",
            "totalN: 4864 totalP: 2514 Accuracy=51.685855865\n",
            "totalN: 5120 totalP: 2636 Accuracy=51.484375000\n",
            "totalN: 5376 totalP: 2749 Accuracy=51.134674072\n",
            "totalN: 5632 totalP: 2878 Accuracy=51.100852966\n",
            "totalN: 5888 totalP: 3013 Accuracy=51.171875000\n",
            "totalN: 6144 totalP: 3164 Accuracy=51.497394562\n",
            "totalN: 6400 totalP: 3287 Accuracy=51.359375000\n",
            "totalN: 6656 totalP: 3408 Accuracy=51.201923370\n",
            "totalN: 6912 totalP: 3558 Accuracy=51.475692749\n",
            "totalN: 7168 totalP: 3702 Accuracy=51.646205902\n",
            "totalN: 7424 totalP: 3842 Accuracy=51.751075745\n",
            "totalN: 7680 totalP: 3983 Accuracy=51.861980438\n",
            "totalN: 7936 totalP: 4101 Accuracy=51.675907135\n",
            "totalN: 8192 totalP: 4231 Accuracy=51.647949219\n",
            "totalN: 8448 totalP: 4352 Accuracy=51.515151978\n",
            "totalN: 8704 totalP: 4478 Accuracy=51.447608948\n",
            "totalN: 8960 totalP: 4605 Accuracy=51.395088196\n",
            "totalN: 9216 totalP: 4722 Accuracy=51.236980438\n",
            "totalN: 9472 totalP: 4862 Accuracy=51.330238342\n",
            "totalN: 9728 totalP: 4991 Accuracy=51.305511475\n",
            "totalN: 9984 totalP: 5128 Accuracy=51.362178802\n",
            "totalN: 10240 totalP: 5282 Accuracy=51.582031250\n",
            "totalN: 10496 totalP: 5410 Accuracy=51.543445587\n",
            "totalN: 10752 totalP: 5533 Accuracy=51.460193634\n",
            "totalN: 11008 totalP: 5672 Accuracy=51.526161194\n",
            "totalN: 11264 totalP: 5808 Accuracy=51.562500000\n",
            "totalN: 11520 totalP: 5947 Accuracy=51.623264313\n",
            "totalN: 11776 totalP: 6073 Accuracy=51.570991516\n",
            "totalN: 12032 totalP: 6215 Accuracy=51.653923035\n",
            "totalN: 12288 totalP: 6345 Accuracy=51.635742188\n",
            "totalN: 12544 totalP: 6473 Accuracy=51.602359772\n",
            "totalN: 12800 totalP: 6597 Accuracy=51.539062500\n",
            "totalN: 13056 totalP: 6729 Accuracy=51.539520264\n",
            "totalN: 13312 totalP: 6855 Accuracy=51.494892120\n",
            "totalN: 13568 totalP: 6990 Accuracy=51.518280029\n",
            "totalN: 13824 totalP: 7135 Accuracy=51.613136292\n",
            "totalN: 14080 totalP: 7271 Accuracy=51.640625000\n",
            "totalN: 14336 totalP: 7396 Accuracy=51.590400696\n",
            "totalN: 14592 totalP: 7528 Accuracy=51.589912415\n",
            "totalN: 14848 totalP: 7651 Accuracy=51.528823853\n",
            "totalN: 15104 totalP: 7777 Accuracy=51.489669800\n",
            "totalN: 15360 totalP: 7913 Accuracy=51.516925812\n",
            "totalN: 15616 totalP: 8057 Accuracy=51.594516754\n",
            "totalN: 15872 totalP: 8194 Accuracy=51.625503540\n",
            "totalN: 16128 totalP: 8335 Accuracy=51.680309296\n",
            "totalN: 16384 totalP: 8466 Accuracy=51.672363281\n",
            "totalN: 16640 totalP: 8615 Accuracy=51.772834778\n",
            "totalN: 16896 totalP: 8763 Accuracy=51.864345551\n",
            "totalN: 17152 totalP: 8885 Accuracy=51.801540375\n",
            "totalN: 17408 totalP: 9005 Accuracy=51.729091644\n",
            "totalN: 17664 totalP: 9149 Accuracy=51.794609070\n",
            "totalN: 17920 totalP: 9286 Accuracy=51.819194794\n",
            "totalN: 18176 totalP: 9419 Accuracy=51.821083069\n",
            "totalN: 18432 totalP: 9551 Accuracy=51.817489624\n",
            "totalN: 18688 totalP: 9690 Accuracy=51.851455688\n",
            "totalN: 18944 totalP: 9829 Accuracy=51.884502411\n"
          ],
          "name": "stdout"
        }
      ]
    },
    {
      "cell_type": "markdown",
      "metadata": {
        "id": "YTvVpjxRXZS7"
      },
      "source": [
        "In the next notebook, we will use CNN to improve the accuracy."
      ]
    },
    {
      "cell_type": "markdown",
      "metadata": {
        "id": "XlOJIYOJXWIC"
      },
      "source": [
        "--------------------------------"
      ]
    }
  ]
}
